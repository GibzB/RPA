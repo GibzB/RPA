{
 "cells": [
  {
   "attachments": {},
   "cell_type": "markdown",
   "metadata": {},
   "source": [
    "## How to Legitimately Increase Your YouTube Views \n",
    "\n",
    "## with Selenium and Python\n",
    "---\n",
    "#### Boost Your YouTube Views Legitimately: \n",
    "#### A Step-by-Step Guide Using Selenium and Python Code\n",
    "\n",
    "I admit that I may have given the video a sensationalized title in order to attract more attention, \n",
    "\n",
    "but I reserve the right to change it later.\n",
    "\n",
    "`Disclaimer: Running YouTube videos through YouTube Playlist is legitimate recommended way and is preferred over this method.`\n",
    "\n",
    "Please be aware that attempting to artificially inflate YouTube views may do more harm than good, and using this code is done at your own risk.\n",
    "\n",
    "However, I have used this code legitimately in the past, such as when a doctor's office wanted to broadcast their playlist and it actually increased YouTube views in a genuine manner. \n",
    "\n",
    "There is nothing inherently wrong with making ethical use of the code, \n",
    "but keep in mind that YouTube may eventually detect automated bots and decrease your views.\n",
    "\n",
    "Therefore, it is recommended to use this code for ethical and authentic legitimate purpose only. \n",
    "\n",
    "--- \n",
    "In below section, We will write functions to \n",
    "- gather all YouTube Videos links from a given channel\n",
    "- loop over YouTub videos playing one at a time for certain interval\n",
    "\n",
    "This code basically produces same YouTube playlist like functionality but helps user achieve greater views via\n",
    "- running multiple browsing sessions in parallel\n",
    "- scheduling to run videos on virtual or low powered machines like Raspberry etc.\n",
    "- fast forward\n",
    "- watching at faster speed, mouse interaction\n",
    "- managing likes and comments\n",
    "\n",
    "---"
   ]
  },
  {
   "cell_type": "code",
   "execution_count": null,
   "metadata": {},
   "outputs": [],
   "source": [
    "################################\n",
    "# create RPA Virtual environment\n",
    "################################\n",
    "# py -m venv RPA\n",
    "# RPA\\Scripts\\activate.bat\n",
    "# import sys\n",
    "# sys.path\n",
    "# py -m pip --version\n",
    "\n",
    "############################################\n",
    "## MAKE SURE these packages are installed ##\n",
    "############################################\n",
    "# py -m pip install pyautogui\n",
    "# py -m pip install selenium\n",
    "# py -m pip install BeautifulSoup4\n",
    "################################"
   ]
  },
  {
   "cell_type": "code",
   "execution_count": 6,
   "metadata": {},
   "outputs": [
    {
     "ename": "SyntaxError",
     "evalue": "invalid syntax (2582861486.py, line 4)",
     "output_type": "error",
     "traceback": [
      "\u001b[0;36m  Input \u001b[0;32mIn [6]\u001b[0;36m\u001b[0m\n\u001b[0;31m    pip install pyautogui\u001b[0m\n\u001b[0m        ^\u001b[0m\n\u001b[0;31mSyntaxError\u001b[0m\u001b[0;31m:\u001b[0m invalid syntax\n"
     ]
    }
   ],
   "source": [
    "import sys\n",
    "sys.path\n",
    "\n",
    "pip install pyautogui\n",
    "pip install selenium\n",
    "pip install BeautifulSoup4"
   ]
  },
  {
   "attachments": {},
   "cell_type": "markdown",
   "metadata": {},
   "source": [
    "## gather youtube links of interest"
   ]
  },
  {
   "cell_type": "code",
   "execution_count": 2,
   "metadata": {},
   "outputs": [],
   "source": [
    "channel = \"https://www.youtube.com/@AfroFusionVibes/videos\"\n",
    "videos = [\"https://www.youtube.com/watch?v=7a0mVPf_Yws\",\n",
    "        \"https://www.youtube.com/watch?v=lrv_QIyXv38\",\n",
    "        \"https://www.youtube.com/watch?v=2OHvWHRVuGU\",\n",
    "        \"YT Link 4\",\n",
    "        \"YT Link 5\",\n",
    "        \"YT Link 6\",\n",
    "        \"YT Link 7\"\n",
    "]\n",
    "\n",
    "from random import randrange\n",
    "def getURL():\n",
    "        return videos[randrange(len(videos))]"
   ]
  },
  {
   "cell_type": "code",
   "execution_count": 2,
   "metadata": {},
   "outputs": [],
   "source": [
    "from selenium import webdriver\n",
    "\n",
    "# Define the path to the webdriver executable (e.g., chromedriver.exe)\n",
    "# webdriver_path = '/path/to/webdriver/executable'\n",
    "webdriver_path = 'C:\\amit.la\\WIP\\RPA\\downloads\\chromedriver.exe'"
   ]
  },
  {
   "cell_type": "code",
   "execution_count": 3,
   "metadata": {},
   "outputs": [],
   "source": [
    "import time\n",
    "import pyautogui\n",
    "\n",
    "def autoBrowse():\n",
    "    \n",
    "    interval = 300  # in seconds\n",
    "\n",
    "    # Set up the webdriver\n",
    "    options = webdriver.ChromeOptions()\n",
    "    options.headless = False # Run the browser in headless mode to prevent a window from popping up\n",
    "    driver = webdriver.Chrome(executable_path=webdriver_path, options=options)\n",
    "    # Load the web page\n",
    "    driver.get(getURL())\n",
    "\n",
    "    fullScreen()\n",
    "    skipAd()\n",
    "    # fast forward after 100 seconds\n",
    "    time.sleep(100)\n",
    "    forwardVideo()\n",
    "\n",
    "    time.sleep(interval)\n",
    "    # Close the webdriver\n",
    "    driver.quit()\n",
    "\n",
    "def skipAd():\n",
    "    # click to forward\n",
    "    pyautogui.click(1, 0, duration=0.25)\n",
    "\n",
    "def forwardVideo():\n",
    "\n",
    "    # click to move mouse from skipAds position to forward slider\n",
    "    pyautogui.moveRel(1, 0, duration=0.25)\n",
    "    # click to forward\n",
    "    pyautogui.click(1, 0, duration=0.25)\n",
    "    # move mouse position back to skipAds position\n",
    "    pyautogui.moveRel(-1, 0, duration=0.25)\n",
    "\n",
    "def fullScreen():\n",
    "    # double click to full screen\n",
    "    pyautogui.doubleClick(1, 0, duration=0.25)"
   ]
  },
  {
   "cell_type": "code",
   "execution_count": 5,
   "metadata": {},
   "outputs": [
    {
     "name": "stderr",
     "output_type": "stream",
     "text": [
      "/var/folders/xn/bck0p7hx1fl9dhbs8zc84xnm0000gn/T/ipykernel_16120/3136069268.py:11: DeprecationWarning: executable_path has been deprecated, please pass in a Service object\n",
      "  driver = webdriver.Chrome(executable_path=webdriver_path, options=options)\n"
     ]
    },
    {
     "ename": "WebDriverException",
     "evalue": "Message: 'C:\u0007mit.la\\WIP\\RPA\\downloads\\chromedriver.exe' executable needs to be in PATH. Please see https://chromedriver.chromium.org/home\n",
     "output_type": "error",
     "traceback": [
      "\u001b[0;31m---------------------------------------------------------------------------\u001b[0m",
      "\u001b[0;31mFileNotFoundError\u001b[0m                         Traceback (most recent call last)",
      "File \u001b[0;32m/Library/Frameworks/Python.framework/Versions/3.10/lib/python3.10/site-packages/selenium/webdriver/common/service.py:71\u001b[0m, in \u001b[0;36mService.start\u001b[0;34m(self)\u001b[0m\n\u001b[1;32m     70\u001b[0m     cmd\u001b[38;5;241m.\u001b[39mextend(\u001b[38;5;28mself\u001b[39m\u001b[38;5;241m.\u001b[39mcommand_line_args())\n\u001b[0;32m---> 71\u001b[0m     \u001b[38;5;28mself\u001b[39m\u001b[38;5;241m.\u001b[39mprocess \u001b[38;5;241m=\u001b[39m \u001b[43msubprocess\u001b[49m\u001b[38;5;241;43m.\u001b[39;49m\u001b[43mPopen\u001b[49m\u001b[43m(\u001b[49m\u001b[43mcmd\u001b[49m\u001b[43m,\u001b[49m\u001b[43m \u001b[49m\u001b[43menv\u001b[49m\u001b[38;5;241;43m=\u001b[39;49m\u001b[38;5;28;43mself\u001b[39;49m\u001b[38;5;241;43m.\u001b[39;49m\u001b[43menv\u001b[49m\u001b[43m,\u001b[49m\n\u001b[1;32m     72\u001b[0m \u001b[43m                                    \u001b[49m\u001b[43mclose_fds\u001b[49m\u001b[38;5;241;43m=\u001b[39;49m\u001b[43msystem\u001b[49m\u001b[43m(\u001b[49m\u001b[43m)\u001b[49m\u001b[43m \u001b[49m\u001b[38;5;241;43m!=\u001b[39;49m\u001b[43m \u001b[49m\u001b[38;5;124;43m'\u001b[39;49m\u001b[38;5;124;43mWindows\u001b[39;49m\u001b[38;5;124;43m'\u001b[39;49m\u001b[43m,\u001b[49m\n\u001b[1;32m     73\u001b[0m \u001b[43m                                    \u001b[49m\u001b[43mstdout\u001b[49m\u001b[38;5;241;43m=\u001b[39;49m\u001b[38;5;28;43mself\u001b[39;49m\u001b[38;5;241;43m.\u001b[39;49m\u001b[43mlog_file\u001b[49m\u001b[43m,\u001b[49m\n\u001b[1;32m     74\u001b[0m \u001b[43m                                    \u001b[49m\u001b[43mstderr\u001b[49m\u001b[38;5;241;43m=\u001b[39;49m\u001b[38;5;28;43mself\u001b[39;49m\u001b[38;5;241;43m.\u001b[39;49m\u001b[43mlog_file\u001b[49m\u001b[43m,\u001b[49m\n\u001b[1;32m     75\u001b[0m \u001b[43m                                    \u001b[49m\u001b[43mstdin\u001b[49m\u001b[38;5;241;43m=\u001b[39;49m\u001b[43mPIPE\u001b[49m\u001b[43m,\u001b[49m\n\u001b[1;32m     76\u001b[0m \u001b[43m                                    \u001b[49m\u001b[43mcreationflags\u001b[49m\u001b[38;5;241;43m=\u001b[39;49m\u001b[38;5;28;43mself\u001b[39;49m\u001b[38;5;241;43m.\u001b[39;49m\u001b[43mcreationflags\u001b[49m\u001b[43m)\u001b[49m\n\u001b[1;32m     77\u001b[0m \u001b[38;5;28;01mexcept\u001b[39;00m \u001b[38;5;167;01mTypeError\u001b[39;00m:\n",
      "File \u001b[0;32m/Library/Frameworks/Python.framework/Versions/3.10/lib/python3.10/subprocess.py:966\u001b[0m, in \u001b[0;36mPopen.__init__\u001b[0;34m(self, args, bufsize, executable, stdin, stdout, stderr, preexec_fn, close_fds, shell, cwd, env, universal_newlines, startupinfo, creationflags, restore_signals, start_new_session, pass_fds, user, group, extra_groups, encoding, errors, text, umask, pipesize)\u001b[0m\n\u001b[1;32m    963\u001b[0m             \u001b[38;5;28mself\u001b[39m\u001b[38;5;241m.\u001b[39mstderr \u001b[38;5;241m=\u001b[39m io\u001b[38;5;241m.\u001b[39mTextIOWrapper(\u001b[38;5;28mself\u001b[39m\u001b[38;5;241m.\u001b[39mstderr,\n\u001b[1;32m    964\u001b[0m                     encoding\u001b[38;5;241m=\u001b[39mencoding, errors\u001b[38;5;241m=\u001b[39merrors)\n\u001b[0;32m--> 966\u001b[0m     \u001b[38;5;28;43mself\u001b[39;49m\u001b[38;5;241;43m.\u001b[39;49m\u001b[43m_execute_child\u001b[49m\u001b[43m(\u001b[49m\u001b[43margs\u001b[49m\u001b[43m,\u001b[49m\u001b[43m \u001b[49m\u001b[43mexecutable\u001b[49m\u001b[43m,\u001b[49m\u001b[43m \u001b[49m\u001b[43mpreexec_fn\u001b[49m\u001b[43m,\u001b[49m\u001b[43m \u001b[49m\u001b[43mclose_fds\u001b[49m\u001b[43m,\u001b[49m\n\u001b[1;32m    967\u001b[0m \u001b[43m                        \u001b[49m\u001b[43mpass_fds\u001b[49m\u001b[43m,\u001b[49m\u001b[43m \u001b[49m\u001b[43mcwd\u001b[49m\u001b[43m,\u001b[49m\u001b[43m \u001b[49m\u001b[43menv\u001b[49m\u001b[43m,\u001b[49m\n\u001b[1;32m    968\u001b[0m \u001b[43m                        \u001b[49m\u001b[43mstartupinfo\u001b[49m\u001b[43m,\u001b[49m\u001b[43m \u001b[49m\u001b[43mcreationflags\u001b[49m\u001b[43m,\u001b[49m\u001b[43m \u001b[49m\u001b[43mshell\u001b[49m\u001b[43m,\u001b[49m\n\u001b[1;32m    969\u001b[0m \u001b[43m                        \u001b[49m\u001b[43mp2cread\u001b[49m\u001b[43m,\u001b[49m\u001b[43m \u001b[49m\u001b[43mp2cwrite\u001b[49m\u001b[43m,\u001b[49m\n\u001b[1;32m    970\u001b[0m \u001b[43m                        \u001b[49m\u001b[43mc2pread\u001b[49m\u001b[43m,\u001b[49m\u001b[43m \u001b[49m\u001b[43mc2pwrite\u001b[49m\u001b[43m,\u001b[49m\n\u001b[1;32m    971\u001b[0m \u001b[43m                        \u001b[49m\u001b[43merrread\u001b[49m\u001b[43m,\u001b[49m\u001b[43m \u001b[49m\u001b[43merrwrite\u001b[49m\u001b[43m,\u001b[49m\n\u001b[1;32m    972\u001b[0m \u001b[43m                        \u001b[49m\u001b[43mrestore_signals\u001b[49m\u001b[43m,\u001b[49m\n\u001b[1;32m    973\u001b[0m \u001b[43m                        \u001b[49m\u001b[43mgid\u001b[49m\u001b[43m,\u001b[49m\u001b[43m \u001b[49m\u001b[43mgids\u001b[49m\u001b[43m,\u001b[49m\u001b[43m \u001b[49m\u001b[43muid\u001b[49m\u001b[43m,\u001b[49m\u001b[43m \u001b[49m\u001b[43mumask\u001b[49m\u001b[43m,\u001b[49m\n\u001b[1;32m    974\u001b[0m \u001b[43m                        \u001b[49m\u001b[43mstart_new_session\u001b[49m\u001b[43m)\u001b[49m\n\u001b[1;32m    975\u001b[0m \u001b[38;5;28;01mexcept\u001b[39;00m:\n\u001b[1;32m    976\u001b[0m     \u001b[38;5;66;03m# Cleanup if the child failed starting.\u001b[39;00m\n",
      "File \u001b[0;32m/Library/Frameworks/Python.framework/Versions/3.10/lib/python3.10/subprocess.py:1842\u001b[0m, in \u001b[0;36mPopen._execute_child\u001b[0;34m(self, args, executable, preexec_fn, close_fds, pass_fds, cwd, env, startupinfo, creationflags, shell, p2cread, p2cwrite, c2pread, c2pwrite, errread, errwrite, restore_signals, gid, gids, uid, umask, start_new_session)\u001b[0m\n\u001b[1;32m   1841\u001b[0m         err_msg \u001b[38;5;241m=\u001b[39m os\u001b[38;5;241m.\u001b[39mstrerror(errno_num)\n\u001b[0;32m-> 1842\u001b[0m     \u001b[38;5;28;01mraise\u001b[39;00m child_exception_type(errno_num, err_msg, err_filename)\n\u001b[1;32m   1843\u001b[0m \u001b[38;5;28;01mraise\u001b[39;00m child_exception_type(err_msg)\n",
      "\u001b[0;31mFileNotFoundError\u001b[0m: [Errno 2] No such file or directory: 'C:\\x07mit.la\\\\WIP\\\\RPA\\\\downloads\\\\chromedriver.exe'",
      "\nDuring handling of the above exception, another exception occurred:\n",
      "\u001b[0;31mWebDriverException\u001b[0m                        Traceback (most recent call last)",
      "Input \u001b[0;32mIn [5]\u001b[0m, in \u001b[0;36m<cell line: 8>\u001b[0;34m()\u001b[0m\n\u001b[1;32m      6\u001b[0m \u001b[38;5;66;03m# Keep moving the mouse cursor at the set interval\u001b[39;00m\n\u001b[1;32m      8\u001b[0m \u001b[38;5;28;01mwhile\u001b[39;00m \u001b[38;5;28;01mTrue\u001b[39;00m:\n\u001b[0;32m----> 9\u001b[0m     \u001b[43mautoBrowse\u001b[49m\u001b[43m(\u001b[49m\u001b[43m)\u001b[49m\n\u001b[1;32m     10\u001b[0m     time\u001b[38;5;241m.\u001b[39msleep(interval)\n",
      "Input \u001b[0;32mIn [3]\u001b[0m, in \u001b[0;36mautoBrowse\u001b[0;34m()\u001b[0m\n\u001b[1;32m      9\u001b[0m options \u001b[38;5;241m=\u001b[39m webdriver\u001b[38;5;241m.\u001b[39mChromeOptions()\n\u001b[1;32m     10\u001b[0m options\u001b[38;5;241m.\u001b[39mheadless \u001b[38;5;241m=\u001b[39m \u001b[38;5;28;01mFalse\u001b[39;00m \u001b[38;5;66;03m# Run the browser in headless mode to prevent a window from popping up\u001b[39;00m\n\u001b[0;32m---> 11\u001b[0m driver \u001b[38;5;241m=\u001b[39m \u001b[43mwebdriver\u001b[49m\u001b[38;5;241;43m.\u001b[39;49m\u001b[43mChrome\u001b[49m\u001b[43m(\u001b[49m\u001b[43mexecutable_path\u001b[49m\u001b[38;5;241;43m=\u001b[39;49m\u001b[43mwebdriver_path\u001b[49m\u001b[43m,\u001b[49m\u001b[43m \u001b[49m\u001b[43moptions\u001b[49m\u001b[38;5;241;43m=\u001b[39;49m\u001b[43moptions\u001b[49m\u001b[43m)\u001b[49m\n\u001b[1;32m     12\u001b[0m \u001b[38;5;66;03m# Load the web page\u001b[39;00m\n\u001b[1;32m     13\u001b[0m driver\u001b[38;5;241m.\u001b[39mget(getURL())\n",
      "File \u001b[0;32m/Library/Frameworks/Python.framework/Versions/3.10/lib/python3.10/site-packages/selenium/webdriver/chrome/webdriver.py:70\u001b[0m, in \u001b[0;36mWebDriver.__init__\u001b[0;34m(self, executable_path, port, options, service_args, desired_capabilities, service_log_path, chrome_options, service, keep_alive)\u001b[0m\n\u001b[1;32m     67\u001b[0m \u001b[38;5;28;01mif\u001b[39;00m \u001b[38;5;129;01mnot\u001b[39;00m service:\n\u001b[1;32m     68\u001b[0m     service \u001b[38;5;241m=\u001b[39m Service(executable_path, port, service_args, service_log_path)\n\u001b[0;32m---> 70\u001b[0m \u001b[38;5;28;43msuper\u001b[39;49m\u001b[43m(\u001b[49m\u001b[43mWebDriver\u001b[49m\u001b[43m,\u001b[49m\u001b[43m \u001b[49m\u001b[38;5;28;43mself\u001b[39;49m\u001b[43m)\u001b[49m\u001b[38;5;241;43m.\u001b[39;49m\u001b[38;5;21;43m__init__\u001b[39;49m\u001b[43m(\u001b[49m\u001b[43mDesiredCapabilities\u001b[49m\u001b[38;5;241;43m.\u001b[39;49m\u001b[43mCHROME\u001b[49m\u001b[43m[\u001b[49m\u001b[38;5;124;43m'\u001b[39;49m\u001b[38;5;124;43mbrowserName\u001b[39;49m\u001b[38;5;124;43m'\u001b[39;49m\u001b[43m]\u001b[49m\u001b[43m,\u001b[49m\u001b[43m \u001b[49m\u001b[38;5;124;43m\"\u001b[39;49m\u001b[38;5;124;43mgoog\u001b[39;49m\u001b[38;5;124;43m\"\u001b[39;49m\u001b[43m,\u001b[49m\n\u001b[1;32m     71\u001b[0m \u001b[43m                                \u001b[49m\u001b[43mport\u001b[49m\u001b[43m,\u001b[49m\u001b[43m \u001b[49m\u001b[43moptions\u001b[49m\u001b[43m,\u001b[49m\n\u001b[1;32m     72\u001b[0m \u001b[43m                                \u001b[49m\u001b[43mservice_args\u001b[49m\u001b[43m,\u001b[49m\u001b[43m \u001b[49m\u001b[43mdesired_capabilities\u001b[49m\u001b[43m,\u001b[49m\n\u001b[1;32m     73\u001b[0m \u001b[43m                                \u001b[49m\u001b[43mservice_log_path\u001b[49m\u001b[43m,\u001b[49m\u001b[43m \u001b[49m\u001b[43mservice\u001b[49m\u001b[43m,\u001b[49m\u001b[43m \u001b[49m\u001b[43mkeep_alive\u001b[49m\u001b[43m)\u001b[49m\n",
      "File \u001b[0;32m/Library/Frameworks/Python.framework/Versions/3.10/lib/python3.10/site-packages/selenium/webdriver/chromium/webdriver.py:90\u001b[0m, in \u001b[0;36mChromiumDriver.__init__\u001b[0;34m(self, browser_name, vendor_prefix, port, options, service_args, desired_capabilities, service_log_path, service, keep_alive)\u001b[0m\n\u001b[1;32m     87\u001b[0m     \u001b[38;5;28;01mraise\u001b[39;00m \u001b[38;5;167;01mAttributeError\u001b[39;00m(\u001b[38;5;124m'\u001b[39m\u001b[38;5;124mservice cannot be None\u001b[39m\u001b[38;5;124m'\u001b[39m)\n\u001b[1;32m     89\u001b[0m \u001b[38;5;28mself\u001b[39m\u001b[38;5;241m.\u001b[39mservice \u001b[38;5;241m=\u001b[39m service\n\u001b[0;32m---> 90\u001b[0m \u001b[38;5;28;43mself\u001b[39;49m\u001b[38;5;241;43m.\u001b[39;49m\u001b[43mservice\u001b[49m\u001b[38;5;241;43m.\u001b[39;49m\u001b[43mstart\u001b[49m\u001b[43m(\u001b[49m\u001b[43m)\u001b[49m\n\u001b[1;32m     92\u001b[0m \u001b[38;5;28;01mtry\u001b[39;00m:\n\u001b[1;32m     93\u001b[0m     RemoteWebDriver\u001b[38;5;241m.\u001b[39m\u001b[38;5;21m__init__\u001b[39m(\n\u001b[1;32m     94\u001b[0m         \u001b[38;5;28mself\u001b[39m,\n\u001b[1;32m     95\u001b[0m         command_executor\u001b[38;5;241m=\u001b[39mChromiumRemoteConnection(\n\u001b[0;32m   (...)\u001b[0m\n\u001b[1;32m     98\u001b[0m             keep_alive\u001b[38;5;241m=\u001b[39mkeep_alive, ignore_proxy\u001b[38;5;241m=\u001b[39m_ignore_proxy),\n\u001b[1;32m     99\u001b[0m         options\u001b[38;5;241m=\u001b[39moptions)\n",
      "File \u001b[0;32m/Library/Frameworks/Python.framework/Versions/3.10/lib/python3.10/site-packages/selenium/webdriver/common/service.py:81\u001b[0m, in \u001b[0;36mService.start\u001b[0;34m(self)\u001b[0m\n\u001b[1;32m     79\u001b[0m \u001b[38;5;28;01mexcept\u001b[39;00m \u001b[38;5;167;01mOSError\u001b[39;00m \u001b[38;5;28;01mas\u001b[39;00m err:\n\u001b[1;32m     80\u001b[0m     \u001b[38;5;28;01mif\u001b[39;00m err\u001b[38;5;241m.\u001b[39merrno \u001b[38;5;241m==\u001b[39m errno\u001b[38;5;241m.\u001b[39mENOENT:\n\u001b[0;32m---> 81\u001b[0m         \u001b[38;5;28;01mraise\u001b[39;00m WebDriverException(\n\u001b[1;32m     82\u001b[0m             \u001b[38;5;124m\"\u001b[39m\u001b[38;5;124m'\u001b[39m\u001b[38;5;132;01m%s\u001b[39;00m\u001b[38;5;124m'\u001b[39m\u001b[38;5;124m executable needs to be in PATH. \u001b[39m\u001b[38;5;132;01m%s\u001b[39;00m\u001b[38;5;124m\"\u001b[39m \u001b[38;5;241m%\u001b[39m (\n\u001b[1;32m     83\u001b[0m                 os\u001b[38;5;241m.\u001b[39mpath\u001b[38;5;241m.\u001b[39mbasename(\u001b[38;5;28mself\u001b[39m\u001b[38;5;241m.\u001b[39mpath), \u001b[38;5;28mself\u001b[39m\u001b[38;5;241m.\u001b[39mstart_error_message)\n\u001b[1;32m     84\u001b[0m         )\n\u001b[1;32m     85\u001b[0m     \u001b[38;5;28;01melif\u001b[39;00m err\u001b[38;5;241m.\u001b[39merrno \u001b[38;5;241m==\u001b[39m errno\u001b[38;5;241m.\u001b[39mEACCES:\n\u001b[1;32m     86\u001b[0m         \u001b[38;5;28;01mraise\u001b[39;00m WebDriverException(\n\u001b[1;32m     87\u001b[0m             \u001b[38;5;124m\"\u001b[39m\u001b[38;5;124m'\u001b[39m\u001b[38;5;132;01m%s\u001b[39;00m\u001b[38;5;124m'\u001b[39m\u001b[38;5;124m executable may have wrong permissions. \u001b[39m\u001b[38;5;132;01m%s\u001b[39;00m\u001b[38;5;124m\"\u001b[39m \u001b[38;5;241m%\u001b[39m (\n\u001b[1;32m     88\u001b[0m                 os\u001b[38;5;241m.\u001b[39mpath\u001b[38;5;241m.\u001b[39mbasename(\u001b[38;5;28mself\u001b[39m\u001b[38;5;241m.\u001b[39mpath), \u001b[38;5;28mself\u001b[39m\u001b[38;5;241m.\u001b[39mstart_error_message)\n\u001b[1;32m     89\u001b[0m         )\n",
      "\u001b[0;31mWebDriverException\u001b[0m: Message: 'C:\u0007mit.la\\WIP\\RPA\\downloads\\chromedriver.exe' executable needs to be in PATH. Please see https://chromedriver.chromium.org/home\n"
     ]
    }
   ],
   "source": [
    "import time\n",
    "\n",
    "# Set the interval for moving the mouse cursor\n",
    "\n",
    "interval = 300  # in seconds\n",
    "# Keep moving the mouse cursor at the set interval\n",
    "\n",
    "while True:\n",
    "    autoBrowse()\n",
    "    time.sleep(interval)"
   ]
  },
  {
   "cell_type": "code",
   "execution_count": 4,
   "metadata": {},
   "outputs": [
    {
     "name": "stdout",
     "output_type": "stream",
     "text": [
      "[<a href=\"/\" style=\"display: none;\" title=\"YouTube\"><svg class=\"external-icon\" height=\"18\" id=\"yt-ringo2-svg\" viewbox=\"0 0 104 18\" width=\"104\" xmlns=\"http://www.w3.org/2000/svg\"><defs><clippath id=\"clip0_161_5084\"><rect height=\"18\" width=\"104\"></rect></clippath></defs><g clip-path=\"url(#clip0_161_5084)\"><path d=\"M13.0363 18C13.0363 18 21.2125 18 23.2406 17.46C24.3825 17.154 25.2413 16.272 25.5427 15.183C26.1 13.185 26.1 8.982 26.1 8.982C26.1 8.982 26.1 4.806 25.5427 2.826C25.2413 1.71 24.3825 0.846 23.2406 0.549C21.2125 0 13.0363 0 13.0363 0C13.0363 0 4.87833 0 2.8594 0.549C1.73574 0.846 0.858733 1.71 0.538992 2.826C0 4.806 0 8.982 0 8.982C0 8.982 0 13.185 0.538992 15.183C0.858733 16.272 1.73574 17.154 2.8594 17.46C4.87833 18 13.0363 18 13.0363 18Z\" fill=\"#FF0000\"></path><path d=\"M17.1 8.99999L10.35 5.17499V12.825L17.1 8.99999Z\" fill=\"white\"></path><path d=\"M104 0V18\" stroke=\"grey\" stroke-width=\"0.5\"></path><g id=\"youtube-paths\"><path d=\"M34.2685 18.0201V12.4901L37.7785 1.00012H34.9185L33.5885 6.23012C33.2885 7.42012 33.0785 8.62012 32.8885 9.49012H32.8085C32.6785 8.71012 32.4385 7.44012 32.1285 6.21012L30.8385 1.00012H27.9785L31.4385 12.4901V18.0201H34.2685Z\"></path><path d=\"M41.1004 5.17012C37.8304 5.17012 36.9204 7.19012 36.9204 10.7901V12.6301C36.9204 15.9801 37.5604 18.2101 41.0404 18.2101C44.4304 18.2101 45.1804 16.1301 45.1804 12.6301V10.7901C45.1804 7.38012 44.4604 5.17012 41.1004 5.17012ZM42.2804 13.6401C42.2804 15.2601 42.0604 16.2901 41.0504 16.2901C40.0404 16.2901 39.8404 15.2401 39.8404 13.6401V9.72012C39.8404 8.33012 40.0004 7.10012 41.0504 7.10012C42.1404 7.10012 42.2804 8.40012 42.2804 9.72012V13.6401Z\"></path><path d=\"M49.2713 18.2001C50.6413 18.2001 51.6013 17.7001 52.3613 16.6401H52.3913L52.4913 18.0001H54.7213V5.41012H51.8513V15.4101C51.5813 15.9001 51.0213 16.2101 50.4413 16.2101C49.6913 16.2101 49.5313 15.6101 49.5313 14.6501V5.41012H46.6513V14.8101C46.6513 16.8201 47.2413 18.2001 49.2713 18.2001Z\"></path><path d=\"M59.9757 18.0001V3.25012H63.0257V1.00012H54.1257V3.25012H57.1657V18.0001H59.9757Z\"></path><path d=\"M64.9315 18.2001C66.3015 18.2001 67.2615 17.7001 68.0215 16.6401H68.0515L68.1515 18.0001H70.3815V5.41012H67.5115V15.4101C67.2415 15.9001 66.6815 16.2101 66.1015 16.2101C65.3515 16.2101 65.1915 15.6101 65.1915 14.6501V5.41012H62.3115V14.8101C62.3115 16.8201 62.9015 18.2001 64.9315 18.2001Z\"></path><path d=\"M77.7426 5.13012C76.4526 5.13012 75.5626 5.68012 74.9726 6.52012H74.9226C74.9926 5.39012 75.0226 4.52012 75.0226 3.71012V0.370117H72.2626V18.0001H74.6126L74.8226 16.9501H74.8626C75.4526 17.7001 76.3626 18.1801 77.5726 18.1801C79.9226 18.1801 80.5826 15.9001 80.5826 12.7101V10.7001C80.5826 7.23012 80.1626 5.13012 77.7426 5.13012ZM77.7026 12.5401C77.7026 14.8801 77.4826 16.1701 76.3326 16.1701C75.8326 16.1701 75.3326 15.9601 75.0226 15.5101V8.29012C75.2926 7.61012 75.8626 7.13012 76.4626 7.13012C77.5526 7.13012 77.7026 8.47012 77.7026 10.8901V12.5401Z\"></path><path d=\"M89.8204 10.5001C89.8204 7.47012 89.5104 5.19012 85.9804 5.19012C82.6704 5.19012 81.9204 7.39012 81.9204 10.6201V12.8201C81.9204 15.9101 82.5904 18.2101 85.9004 18.2101C88.4404 18.2101 89.9004 16.9901 89.7104 14.2801L87.2404 14.1401C87.2204 15.5901 86.9804 16.2901 85.9604 16.2901C84.7704 16.2901 84.7404 15.1301 84.7404 13.3001V12.6501H89.8204V10.5001ZM85.9204 7.08012C87.0704 7.08012 87.1204 8.21012 87.1204 10.0701V10.9801H84.7404V10.0701C84.7404 8.23012 84.7804 7.08012 85.9204 7.08012Z\"></path></g></g></svg></a>, <a href=\"/\" style=\"display: none;\" title=\"YouTube\"><svg class=\"external-icon\" height=\"18\" id=\"yt-ringo2-red-svg\" viewbox=\"0 0 111 18\" width=\"111\" xmlns=\"http://www.w3.org/2000/svg\"><defs><clippath id=\"clip0_161_5078\"><rect height=\"18\" width=\"111\"></rect></clippath></defs><g clip-path=\"url(#clip0_161_5078)\"><path d=\"M13.0363 18C13.0363 18 21.2125 18 23.2406 17.46C24.3825 17.154 25.2413 16.272 25.5427 15.183C26.1 13.185 26.1 8.982 26.1 8.982C26.1 8.982 26.1 4.806 25.5427 2.826C25.2413 1.71 24.3825 0.846 23.2406 0.549C21.2125 0 13.0363 0 13.0363 0C13.0363 0 4.87833 0 2.8594 0.549C1.73574 0.846 0.858733 1.71 0.538992 2.826C0 4.806 0 8.982 0 8.982C0 8.982 0 13.185 0.538992 15.183C0.858733 16.272 1.73574 17.154 2.8594 17.46C4.87833 18 13.0363 18 13.0363 18Z\" fill=\"#FF0000\"></path><path d=\"M17.1 8.99999L10.35 5.17499V12.825L17.1 8.99999Z\" fill=\"white\"></path><path d=\"M111 0V18\" stroke=\"grey\" stroke-width=\"0.5\"></path><g id=\"youtube-paths\"><path d=\"M30.125 0.570001V17.57H32.915V11.57H33.505C37.045 11.57 38.715 9.57 38.715 6.14V5.45C38.715 1.77 37.005 0.570001 33.765 0.570001H30.125ZM35.775 6.2C35.775 8.6 35.025 9.55 33.455 9.55H32.915V2.64H33.505C35.365 2.64 35.775 3.37 35.775 5.7V6.2Z\"></path><path d=\"M39.858 17.57H42.628V8.71C43.118 7.96 44.178 7.77 45.418 8.01L45.568 4.78C45.388 4.74 45.188 4.72 45.018 4.72C43.728 4.72 42.768 5.69 42.288 7.26H42.228L42.048 4.98H39.858V17.57Z\"></path><path d=\"M53.832 10.07C53.832 7.04 53.522 4.76 49.992 4.76C46.682 4.76 45.932 6.96 45.932 10.19V12.39C45.932 15.48 46.602 17.78 49.912 17.78C52.452 17.78 53.912 16.56 53.722 13.85L51.252 13.71C51.232 15.16 50.992 15.86 49.972 15.86C48.782 15.86 48.752 14.7 48.752 12.87V12.22H53.832V10.07ZM49.932 6.65C51.082 6.65 51.132 7.78 51.132 9.64V10.55H48.752V9.64C48.752 7.8 48.792 6.65 49.932 6.65Z\"></path><path d=\"M58.2905 17.57V7.5C58.6605 6.99 59.1805 6.72 59.7205 6.72C60.5105 6.72 60.7105 7.4 60.7105 8.26V17.57H63.5905L63.5705 7.55C63.9205 7.02 64.4405 6.72 65.0105 6.72C65.7505 6.72 66.0305 7.29 66.0305 8.26V17.57H68.9005V8.06C68.9005 5.96 68.1805 4.74 66.3405 4.74C65.0805 4.74 64.0805 5.22 63.2705 6.09C62.9305 5.26 62.2505 4.74 61.0505 4.74C59.7505 4.74 58.6505 5.29 57.8905 6.19H57.8505L57.6705 4.98H55.4205V17.57H58.2905Z\"></path><path d=\"M72.1117 3.55C73.1317 3.55 73.5717 3.23 73.5717 1.89C73.5717 0.670001 73.1317 0.25 72.1117 0.25C71.1217 0.25 70.6517 0.61 70.6517 1.89C70.6517 3.23 71.1217 3.55 72.1117 3.55ZM70.7317 17.57H73.4717V4.98H70.7317V17.57Z\"></path><path d=\"M77.9275 17.77C79.2975 17.77 80.2575 17.27 81.0175 16.21H81.0475L81.1475 17.57H83.3775V4.98H80.5075V14.98C80.2375 15.47 79.6775 15.78 79.0975 15.78C78.3475 15.78 78.1875 15.18 78.1875 14.22V4.98H75.3075V14.38C75.3075 16.39 75.8975 17.77 77.9275 17.77Z\"></path><path d=\"M88.1186 17.57V7.5C88.4886 6.99 89.0086 6.72 89.5486 6.72C90.3386 6.72 90.5386 7.4 90.5386 8.26V17.57H93.4186L93.3986 7.55C93.7486 7.02 94.2686 6.72 94.8386 6.72C95.5786 6.72 95.8586 7.29 95.8586 8.26V17.57H98.7286V8.06C98.7286 5.96 98.0086 4.74 96.1686 4.74C94.9086 4.74 93.9086 5.22 93.0986 6.09C92.7586 5.26 92.0786 4.74 90.8786 4.74C89.5786 4.74 88.4786 5.29 87.7186 6.19H87.6786L87.4986 4.98H85.2486V17.57H88.1186Z\"></path></g></g></svg></a>, <a href=\"https://www.youtube.com/about/\" slot=\"guide-links-primary\" style=\"display: none;\">About</a>, <a href=\"https://www.youtube.com/about/press/\" slot=\"guide-links-primary\" style=\"display: none;\">Press</a>, <a href=\"https://www.youtube.com/about/copyright/\" slot=\"guide-links-primary\" style=\"display: none;\">Copyright</a>, <a href=\"/t/contact_us/\" slot=\"guide-links-primary\" style=\"display: none;\">Contact us</a>, <a href=\"https://www.youtube.com/creators/\" slot=\"guide-links-primary\" style=\"display: none;\">Creator</a>, <a href=\"https://www.youtube.com/ads/\" slot=\"guide-links-primary\" style=\"display: none;\">Advertise</a>, <a href=\"https://developers.google.com/youtube\" slot=\"guide-links-primary\" style=\"display: none;\">Developers</a>, <a href=\"/t/terms\" slot=\"guide-links-secondary\" style=\"display: none;\">Terms</a>, <a href=\"/t/privacy\" slot=\"guide-links-secondary\" style=\"display: none;\">Privacy</a>, <a href=\"https://www.youtube.com/about/policies/\" slot=\"guide-links-secondary\" style=\"display: none;\">Policy &amp; Safety</a>, <a href=\"https://www.youtube.com/howyoutubeworks?utm_campaign=ytgen&amp;utm_source=ythp&amp;utm_medium=LeftNav&amp;utm_content=txt&amp;u=https%3A%2F%2Fwww.youtube.com%2Fhowyoutubeworks%3Futm_source%3Dythp%26utm_medium%3DLeftNav%26utm_campaign%3Dytgen\" slot=\"guide-links-secondary\" style=\"display: none;\">How YouTube works</a>, <a href=\"/new\" slot=\"guide-links-secondary\" style=\"display: none;\">Test new features</a>]\n",
      "URLs: []\n"
     ]
    }
   ],
   "source": [
    "###############################\n",
    "# This code doesn't work\n",
    "# failed to get YT video URLs\n",
    "# Try downloading response.body\n",
    "# download links from body frame instead\n",
    "###############################\n",
    "\n",
    "import os\n",
    "import requests\n",
    "from bs4 import BeautifulSoup\n",
    "import re\n",
    "\n",
    "url = \"https://www.youtube.com/@India.Kitchen/videos\"\n",
    "\n",
    "response = requests.get(url)\n",
    "\n",
    "soup = BeautifulSoup(response.content, \"html.parser\")\n",
    "# Find all the links on the page\n",
    "links = soup.find_all(\"a\")\n",
    "myLinks = []\n",
    "\n",
    "# Loop through the links and download any CSV, PDF, or image files\n",
    "for link in links:\n",
    "    href = link.get(\"href\")\n",
    "    if href:\n",
    "        # Check if the link is for a CSV, PDF, or image file\n",
    "        if href.startswith(\"https://www.youtube.com/watch?\"):\n",
    "            myLinks.append(link)\n",
    "\n",
    "print(links) # gives nothing meaningful\n",
    "\n",
    "# try Reg Ex URL fetch instead\n",
    "text = soup.get_text()\n",
    "# Extract URLs\n",
    "urls = re.findall(r\"(?P<url>https?://[^\\s]+)\", text)\n",
    "print(\"URLs:\", urls)# gives nothing"
   ]
  },
  {
   "cell_type": "markdown",
   "metadata": {},
   "source": []
  }
 ],
 "metadata": {
  "kernelspec": {
   "display_name": "Python 3",
   "language": "python",
   "name": "python3"
  },
  "language_info": {
   "codemirror_mode": {
    "name": "ipython",
    "version": 3
   },
   "file_extension": ".py",
   "mimetype": "text/x-python",
   "name": "python",
   "nbconvert_exporter": "python",
   "pygments_lexer": "ipython3",
   "version": "3.12.8"
  },
  "orig_nbformat": 4
 },
 "nbformat": 4,
 "nbformat_minor": 2
}
